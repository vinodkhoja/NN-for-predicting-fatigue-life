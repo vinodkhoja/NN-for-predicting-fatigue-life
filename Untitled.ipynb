{
 "cells": [
  {
   "cell_type": "code",
   "execution_count": 1,
   "metadata": {},
   "outputs": [],
   "source": [
    "import numpy as np\n",
    "import pandas as pd\n",
    "from pandas import DataFrame, Series"
   ]
  },
  {
   "cell_type": "code",
   "execution_count": 2,
   "metadata": {},
   "outputs": [],
   "source": [
    "df = pd.read_csv(\"T351_aluminium_exp_data.csv\")"
   ]
  },
  {
   "cell_type": "code",
   "execution_count": 3,
   "metadata": {},
   "outputs": [
    {
     "data": {
      "text/plain": [
       "Index(['R', 'delta_K', 'crack_growth_rate'], dtype='object')"
      ]
     },
     "execution_count": 3,
     "metadata": {},
     "output_type": "execute_result"
    }
   ],
   "source": [
    "df.columns"
   ]
  },
  {
   "cell_type": "code",
   "execution_count": 4,
   "metadata": {},
   "outputs": [
    {
     "data": {
      "text/html": [
       "<div>\n",
       "<style scoped>\n",
       "    .dataframe tbody tr th:only-of-type {\n",
       "        vertical-align: middle;\n",
       "    }\n",
       "\n",
       "    .dataframe tbody tr th {\n",
       "        vertical-align: top;\n",
       "    }\n",
       "\n",
       "    .dataframe thead th {\n",
       "        text-align: right;\n",
       "    }\n",
       "</style>\n",
       "<table border=\"1\" class=\"dataframe\">\n",
       "  <thead>\n",
       "    <tr style=\"text-align: right;\">\n",
       "      <th></th>\n",
       "      <th>R</th>\n",
       "      <th>delta_K</th>\n",
       "      <th>crack_growth_rate</th>\n",
       "    </tr>\n",
       "  </thead>\n",
       "  <tbody>\n",
       "    <tr>\n",
       "      <th>0</th>\n",
       "      <td>0.0</td>\n",
       "      <td>3.31514</td>\n",
       "      <td>0.000176</td>\n",
       "    </tr>\n",
       "    <tr>\n",
       "      <th>1</th>\n",
       "      <td>0.0</td>\n",
       "      <td>3.36765</td>\n",
       "      <td>0.000238</td>\n",
       "    </tr>\n",
       "    <tr>\n",
       "      <th>2</th>\n",
       "      <td>0.0</td>\n",
       "      <td>3.44451</td>\n",
       "      <td>0.000251</td>\n",
       "    </tr>\n",
       "    <tr>\n",
       "      <th>3</th>\n",
       "      <td>0.0</td>\n",
       "      <td>3.52313</td>\n",
       "      <td>0.000269</td>\n",
       "    </tr>\n",
       "    <tr>\n",
       "      <th>4</th>\n",
       "      <td>0.0</td>\n",
       "      <td>3.61371</td>\n",
       "      <td>0.000310</td>\n",
       "    </tr>\n",
       "  </tbody>\n",
       "</table>\n",
       "</div>"
      ],
      "text/plain": [
       "     R  delta_K  crack_growth_rate\n",
       "0  0.0  3.31514           0.000176\n",
       "1  0.0  3.36765           0.000238\n",
       "2  0.0  3.44451           0.000251\n",
       "3  0.0  3.52313           0.000269\n",
       "4  0.0  3.61371           0.000310"
      ]
     },
     "execution_count": 4,
     "metadata": {},
     "output_type": "execute_result"
    }
   ],
   "source": [
    "df.head()"
   ]
  },
  {
   "cell_type": "code",
   "execution_count": 5,
   "metadata": {},
   "outputs": [],
   "source": [
    "df_train = df[df['R'] != 0.3]\n",
    "df_test = df[df['R'] == 0.3]"
   ]
  },
  {
   "cell_type": "code",
   "execution_count": 6,
   "metadata": {},
   "outputs": [
    {
     "data": {
      "text/plain": [
       "(57, 3)"
      ]
     },
     "execution_count": 6,
     "metadata": {},
     "output_type": "execute_result"
    }
   ],
   "source": [
    "df_train.shape"
   ]
  },
  {
   "cell_type": "code",
   "execution_count": 7,
   "metadata": {},
   "outputs": [
    {
     "data": {
      "text/html": [
       "<div>\n",
       "<style scoped>\n",
       "    .dataframe tbody tr th:only-of-type {\n",
       "        vertical-align: middle;\n",
       "    }\n",
       "\n",
       "    .dataframe tbody tr th {\n",
       "        vertical-align: top;\n",
       "    }\n",
       "\n",
       "    .dataframe thead th {\n",
       "        text-align: right;\n",
       "    }\n",
       "</style>\n",
       "<table border=\"1\" class=\"dataframe\">\n",
       "  <thead>\n",
       "    <tr style=\"text-align: right;\">\n",
       "      <th></th>\n",
       "      <th>R</th>\n",
       "      <th>delta_K</th>\n",
       "      <th>crack_growth_rate</th>\n",
       "    </tr>\n",
       "  </thead>\n",
       "  <tbody>\n",
       "    <tr>\n",
       "      <th>0</th>\n",
       "      <td>0.0</td>\n",
       "      <td>3.31514</td>\n",
       "      <td>0.000176</td>\n",
       "    </tr>\n",
       "    <tr>\n",
       "      <th>1</th>\n",
       "      <td>0.0</td>\n",
       "      <td>3.36765</td>\n",
       "      <td>0.000238</td>\n",
       "    </tr>\n",
       "    <tr>\n",
       "      <th>2</th>\n",
       "      <td>0.0</td>\n",
       "      <td>3.44451</td>\n",
       "      <td>0.000251</td>\n",
       "    </tr>\n",
       "    <tr>\n",
       "      <th>3</th>\n",
       "      <td>0.0</td>\n",
       "      <td>3.52313</td>\n",
       "      <td>0.000269</td>\n",
       "    </tr>\n",
       "    <tr>\n",
       "      <th>4</th>\n",
       "      <td>0.0</td>\n",
       "      <td>3.61371</td>\n",
       "      <td>0.000310</td>\n",
       "    </tr>\n",
       "  </tbody>\n",
       "</table>\n",
       "</div>"
      ],
      "text/plain": [
       "     R  delta_K  crack_growth_rate\n",
       "0  0.0  3.31514           0.000176\n",
       "1  0.0  3.36765           0.000238\n",
       "2  0.0  3.44451           0.000251\n",
       "3  0.0  3.52313           0.000269\n",
       "4  0.0  3.61371           0.000310"
      ]
     },
     "execution_count": 7,
     "metadata": {},
     "output_type": "execute_result"
    }
   ],
   "source": [
    "\n",
    "df_train.head()"
   ]
  },
  {
   "cell_type": "code",
   "execution_count": 16,
   "metadata": {},
   "outputs": [
    {
     "data": {
      "text/html": [
       "<div>\n",
       "<style scoped>\n",
       "    .dataframe tbody tr th:only-of-type {\n",
       "        vertical-align: middle;\n",
       "    }\n",
       "\n",
       "    .dataframe tbody tr th {\n",
       "        vertical-align: top;\n",
       "    }\n",
       "\n",
       "    .dataframe thead th {\n",
       "        text-align: right;\n",
       "    }\n",
       "</style>\n",
       "<table border=\"1\" class=\"dataframe\">\n",
       "  <thead>\n",
       "    <tr style=\"text-align: right;\">\n",
       "      <th></th>\n",
       "      <th>R</th>\n",
       "      <th>delta_K</th>\n",
       "    </tr>\n",
       "  </thead>\n",
       "  <tbody>\n",
       "    <tr>\n",
       "      <th>0</th>\n",
       "      <td>0.0</td>\n",
       "      <td>3.31514</td>\n",
       "    </tr>\n",
       "    <tr>\n",
       "      <th>1</th>\n",
       "      <td>0.0</td>\n",
       "      <td>3.36765</td>\n",
       "    </tr>\n",
       "    <tr>\n",
       "      <th>2</th>\n",
       "      <td>0.0</td>\n",
       "      <td>3.44451</td>\n",
       "    </tr>\n",
       "    <tr>\n",
       "      <th>3</th>\n",
       "      <td>0.0</td>\n",
       "      <td>3.52313</td>\n",
       "    </tr>\n",
       "    <tr>\n",
       "      <th>4</th>\n",
       "      <td>0.0</td>\n",
       "      <td>3.61371</td>\n",
       "    </tr>\n",
       "  </tbody>\n",
       "</table>\n",
       "</div>"
      ],
      "text/plain": [
       "     R  delta_K\n",
       "0  0.0  3.31514\n",
       "1  0.0  3.36765\n",
       "2  0.0  3.44451\n",
       "3  0.0  3.52313\n",
       "4  0.0  3.61371"
      ]
     },
     "execution_count": 16,
     "metadata": {},
     "output_type": "execute_result"
    }
   ],
   "source": [
    "train_input = df_train.drop(['crack_growth_rate'], axis = 1)\n",
    "\n",
    "train_input.head()"
   ]
  },
  {
   "cell_type": "code",
   "execution_count": 17,
   "metadata": {},
   "outputs": [],
   "source": [
    "train_output = df_train['crack_growth_rate'].values\n"
   ]
  },
  {
   "cell_type": "code",
   "execution_count": 18,
   "metadata": {},
   "outputs": [
    {
     "data": {
      "text/plain": [
       "(57, 2)"
      ]
     },
     "execution_count": 18,
     "metadata": {},
     "output_type": "execute_result"
    }
   ],
   "source": [
    "train_input.shape"
   ]
  },
  {
   "cell_type": "code",
   "execution_count": 19,
   "metadata": {},
   "outputs": [
    {
     "data": {
      "text/plain": [
       "array([[ 0.     ,  3.31514],\n",
       "       [ 0.     ,  3.36765],\n",
       "       [ 0.     ,  3.44451],\n",
       "       [ 0.     ,  3.52313],\n",
       "       [ 0.     ,  3.61371],\n",
       "       [ 0.     ,  3.73211],\n",
       "       [ 0.     ,  3.82807],\n",
       "       [ 0.     ,  4.21508],\n",
       "       [ 0.     ,  5.04294],\n",
       "       [ 0.     ,  5.58644],\n",
       "       [ 0.     ,  6.01397],\n",
       "       [ 0.     ,  6.23106],\n",
       "       [ 0.     ,  6.9249 ],\n",
       "       [ 0.     ,  7.08295],\n",
       "       [ 0.     ,  7.97381],\n",
       "       [ 0.     ,  8.36549],\n",
       "       [ 0.     ,  9.23726],\n",
       "       [ 0.     , 10.23693],\n",
       "       [ 0.     , 11.30371],\n",
       "       [ 0.     , 11.85897],\n",
       "       [ 0.     , 12.84911],\n",
       "       [ 0.1    ,  2.91642],\n",
       "       [ 0.1    ,  2.96381],\n",
       "       [ 0.1    ,  3.11944],\n",
       "       [ 0.1    ,  3.28324],\n",
       "       [ 0.1    ,  3.42238],\n",
       "       [ 0.1    ,  3.80346],\n",
       "       [ 0.1    ,  4.13434],\n",
       "       [ 0.1    ,  4.5085 ],\n",
       "       [ 0.1    ,  5.32488],\n",
       "       [ 0.1    ,  6.03339],\n",
       "       [ 0.1    ,  6.1117 ],\n",
       "       [ 0.1    ,  6.53714],\n",
       "       [ 0.1    ,  6.81418],\n",
       "       [ 0.1    ,  7.21837],\n",
       "       [ 0.1    ,  7.5974 ],\n",
       "       [ 0.1    ,  7.92256],\n",
       "       [ 0.1    ,  8.25831],\n",
       "       [ 0.1    ,  8.77642],\n",
       "       [ 0.1    ,  9.06396],\n",
       "       [ 0.1    ,  9.78518],\n",
       "       [ 0.1    , 10.60218],\n",
       "       [ 0.1    , 11.45042],\n",
       "       [ 0.5    ,  2.25526],\n",
       "       [ 0.5    ,  2.34894],\n",
       "       [ 0.5    ,  2.68843],\n",
       "       [ 0.5    ,  3.02779],\n",
       "       [ 0.5    ,  3.58037],\n",
       "       [ 0.5    ,  3.98708],\n",
       "       [ 0.5    ,  4.0995 ],\n",
       "       [ 0.5    ,  4.47772],\n",
       "       [ 0.5    ,  4.64309],\n",
       "       [ 0.5    ,  4.95032],\n",
       "       [ 0.5    ,  5.19349],\n",
       "       [ 0.5    ,  5.36364],\n",
       "       [ 0.5    ,  6.09202],\n",
       "       [ 0.5    ,  6.49513]])"
      ]
     },
     "execution_count": 19,
     "metadata": {},
     "output_type": "execute_result"
    }
   ],
   "source": [
    "train_input = train_input.to_numpy()\n",
    "train_input"
   ]
  },
  {
   "cell_type": "code",
   "execution_count": 20,
   "metadata": {},
   "outputs": [
    {
     "data": {
      "text/plain": [
       "array([0.000176, 0.000238, 0.000251, 0.000269, 0.00031 , 0.000323,\n",
       "       0.000348, 0.000366, 0.000399, 0.000424, 0.000442, 0.000473,\n",
       "       0.0005  , 0.000541, 0.000601, 0.000651, 0.000692, 0.000748,\n",
       "       0.000808, 0.000824, 0.00089 , 0.00022 , 0.000265, 0.00031 ,\n",
       "       0.000319, 0.000347, 0.000362, 0.000399, 0.000422, 0.00044 ,\n",
       "       0.000475, 0.000498, 0.000542, 0.000573, 0.000618, 0.000647,\n",
       "       0.00069 , 0.000721, 0.000746, 0.000764, 0.00081 , 0.00082 ,\n",
       "       0.000865, 0.000309, 0.000319, 0.000347, 0.000367, 0.000399,\n",
       "       0.000419, 0.000441, 0.000475, 0.000497, 0.00054 , 0.000574,\n",
       "       0.000621, 0.000684, 0.000748])"
      ]
     },
     "execution_count": 20,
     "metadata": {},
     "output_type": "execute_result"
    }
   ],
   "source": [
    "train_output"
   ]
  },
  {
   "cell_type": "code",
   "execution_count": 23,
   "metadata": {},
   "outputs": [],
   "source": [
    "import sys\n"
   ]
  },
  {
   "cell_type": "code",
   "execution_count": 27,
   "metadata": {},
   "outputs": [
    {
     "name": "stderr",
     "output_type": "stream",
     "text": [
      "\n",
      "EnvironmentLocationNotFound: Not a conda environment: C:\\Users\\vinod\n",
      "\n"
     ]
    }
   ],
   "source": [
    "!conda install --yes --prefix {sys.prefix} numpy"
   ]
  },
  {
   "cell_type": "code",
   "execution_count": 28,
   "metadata": {},
   "outputs": [
    {
     "name": "stdout",
     "output_type": "stream",
     "text": [
      "\n",
      "Note: you may need to restart the kernel to use updated packages.\n"
     ]
    },
    {
     "name": "stderr",
     "output_type": "stream",
     "text": [
      "usage: conda-script.py [-h] [-V] command ...\n",
      "conda-script.py: error: unrecognized arguments: elm\n"
     ]
    }
   ],
   "source": [
    "conda install -c conda-forge elm"
   ]
  },
  {
   "cell_type": "code",
   "execution_count": null,
   "metadata": {},
   "outputs": [],
   "source": []
  }
 ],
 "metadata": {
  "kernelspec": {
   "display_name": "Python 3",
   "language": "python",
   "name": "python3"
  },
  "language_info": {
   "codemirror_mode": {
    "name": "ipython",
    "version": 3
   },
   "file_extension": ".py",
   "mimetype": "text/x-python",
   "name": "python",
   "nbconvert_exporter": "python",
   "pygments_lexer": "ipython3",
   "version": "3.7.3"
  }
 },
 "nbformat": 4,
 "nbformat_minor": 2
}
