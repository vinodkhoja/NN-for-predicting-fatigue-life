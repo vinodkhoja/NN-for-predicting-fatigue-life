{
 "cells": [
  {
   "cell_type": "code",
   "execution_count": 1,
   "metadata": {},
   "outputs": [],
   "source": [
    "import numpy as np\n",
    " \n",
    "import os"
   ]
  },
  {
   "cell_type": "code",
   "execution_count": 2,
   "metadata": {},
   "outputs": [
    {
     "data": {
      "text/html": [
       "<div>\n",
       "<style scoped>\n",
       "    .dataframe tbody tr th:only-of-type {\n",
       "        vertical-align: middle;\n",
       "    }\n",
       "\n",
       "    .dataframe tbody tr th {\n",
       "        vertical-align: top;\n",
       "    }\n",
       "\n",
       "    .dataframe thead th {\n",
       "        text-align: right;\n",
       "    }\n",
       "</style>\n",
       "<table border=\"1\" class=\"dataframe\">\n",
       "  <thead>\n",
       "    <tr style=\"text-align: right;\">\n",
       "      <th></th>\n",
       "      <th>R</th>\n",
       "      <th>delta_K</th>\n",
       "      <th>crack_growth_rate</th>\n",
       "    </tr>\n",
       "  </thead>\n",
       "  <tbody>\n",
       "    <tr>\n",
       "      <td>0</td>\n",
       "      <td>0.0</td>\n",
       "      <td>3.31514</td>\n",
       "      <td>5.040000e-07</td>\n",
       "    </tr>\n",
       "    <tr>\n",
       "      <td>1</td>\n",
       "      <td>0.0</td>\n",
       "      <td>3.36765</td>\n",
       "      <td>8.930000e-07</td>\n",
       "    </tr>\n",
       "    <tr>\n",
       "      <td>2</td>\n",
       "      <td>0.0</td>\n",
       "      <td>3.44451</td>\n",
       "      <td>1.010000e-06</td>\n",
       "    </tr>\n",
       "    <tr>\n",
       "      <td>3</td>\n",
       "      <td>0.0</td>\n",
       "      <td>3.52313</td>\n",
       "      <td>1.190000e-06</td>\n",
       "    </tr>\n",
       "    <tr>\n",
       "      <td>4</td>\n",
       "      <td>0.0</td>\n",
       "      <td>3.61371</td>\n",
       "      <td>1.730000e-06</td>\n",
       "    </tr>\n",
       "  </tbody>\n",
       "</table>\n",
       "</div>"
      ],
      "text/plain": [
       "     R  delta_K  crack_growth_rate\n",
       "0  0.0  3.31514       5.040000e-07\n",
       "1  0.0  3.36765       8.930000e-07\n",
       "2  0.0  3.44451       1.010000e-06\n",
       "3  0.0  3.52313       1.190000e-06\n",
       "4  0.0  3.61371       1.730000e-06"
      ]
     },
     "execution_count": 2,
     "metadata": {},
     "output_type": "execute_result"
    }
   ],
   "source": [
    "#os.chdir(\"../input\")\n",
    "import pandas as pd\n",
    "data = pd.read_csv(\"T351_aluminium_data_true.csv\")\n",
    "data[0:5]"
   ]
  },
  {
   "cell_type": "code",
   "execution_count": 3,
   "metadata": {},
   "outputs": [],
   "source": [
    "original_data = pd.read_csv(\"T351_aluminium_data_true.csv\")"
   ]
  },
  {
   "cell_type": "code",
   "execution_count": 4,
   "metadata": {},
   "outputs": [
    {
     "data": {
      "text/plain": [
       "(77, 3)"
      ]
     },
     "execution_count": 4,
     "metadata": {},
     "output_type": "execute_result"
    }
   ],
   "source": [
    "data.shape"
   ]
  },
  {
   "cell_type": "code",
   "execution_count": 5,
   "metadata": {},
   "outputs": [],
   "source": [
    "data[\"crack_growth_rate\"] = (10**(5) ) * data[\"crack_growth_rate\"]"
   ]
  },
  {
   "cell_type": "code",
   "execution_count": 6,
   "metadata": {},
   "outputs": [
    {
     "name": "stderr",
     "output_type": "stream",
     "text": [
      "Using TensorFlow backend.\n"
     ]
    }
   ],
   "source": [
    "from keras.callbacks import ModelCheckpoint\n",
    "from keras.models import Sequential\n",
    "from keras.layers import Dense, Activation, Flatten\n",
    "from sklearn.model_selection import train_test_split\n",
    "from sklearn.ensemble import RandomForestRegressor\n",
    "from sklearn.metrics import mean_absolute_error \n"
   ]
  },
  {
   "cell_type": "code",
   "execution_count": 7,
   "metadata": {},
   "outputs": [],
   "source": [
    "from keras.models import model_from_json"
   ]
  },
  {
   "cell_type": "code",
   "execution_count": 10,
   "metadata": {},
   "outputs": [],
   "source": [
    "x=data.drop(['crack_growth_rate'],axis=1)\n",
    "y=data.drop(['R','delta_K'],axis=1)\n",
    "X_train,X_test,y_train,y_test = train_test_split(x,y,test_size=0.1)\n",
    "\n"
   ]
  },
  {
   "cell_type": "code",
   "execution_count": 8,
   "metadata": {},
   "outputs": [],
   "source": [
    "#changing the training data9training only on R(0.1,0.3,0.5)\n",
    "train_data = data.loc[data['R']!=0.1]\n",
    "X_train = train_data.drop(['crack_growth_rate'],axis = 1)\n",
    "y_train = train_data.drop(['R','delta_K'],axis = 1)\n",
    "test_data = data.loc[data['R']==0.1]\n",
    "X_test = test_data.drop(['crack_growth_rate'],axis = 1)\n",
    "y_test = test_data.drop(['R','delta_K'],axis = 1)"
   ]
  },
  {
   "cell_type": "code",
   "execution_count": 9,
   "metadata": {},
   "outputs": [
    {
     "data": {
      "text/plain": [
       "55"
      ]
     },
     "execution_count": 9,
     "metadata": {},
     "output_type": "execute_result"
    }
   ],
   "source": [
    "X_train.shape[0]"
   ]
  },
  {
   "cell_type": "code",
   "execution_count": 10,
   "metadata": {},
   "outputs": [
    {
     "name": "stdout",
     "output_type": "stream",
     "text": [
      "WARNING:tensorflow:From C:\\Users\\vinod khoja\\AppData\\Local\\conda\\conda\\envs\\keras-gpu\\lib\\site-packages\\tensorflow\\python\\framework\\op_def_library.py:263: colocate_with (from tensorflow.python.framework.ops) is deprecated and will be removed in a future version.\n",
      "Instructions for updating:\n",
      "Colocations handled automatically by placer.\n"
     ]
    }
   ],
   "source": [
    "NN_model = Sequential()\n",
    "\n",
    "# The Input Layer :\n",
    "NN_model.add(Dense(128, kernel_initializer='normal',input_dim = X_train.shape[1], activation='sigmoid'))"
   ]
  },
  {
   "cell_type": "code",
   "execution_count": 11,
   "metadata": {},
   "outputs": [
    {
     "name": "stdout",
     "output_type": "stream",
     "text": [
      "_________________________________________________________________\n",
      "Layer (type)                 Output Shape              Param #   \n",
      "=================================================================\n",
      "dense_1 (Dense)              (None, 128)               384       \n",
      "_________________________________________________________________\n",
      "dense_2 (Dense)              (None, 256)               33024     \n",
      "_________________________________________________________________\n",
      "dense_3 (Dense)              (None, 256)               65792     \n",
      "_________________________________________________________________\n",
      "dense_4 (Dense)              (None, 256)               65792     \n",
      "_________________________________________________________________\n",
      "dense_5 (Dense)              (None, 1)                 257       \n",
      "=================================================================\n",
      "Total params: 165,249\n",
      "Trainable params: 165,249\n",
      "Non-trainable params: 0\n",
      "_________________________________________________________________\n"
     ]
    }
   ],
   "source": [
    "# The Hidden Layers :\n",
    "NN_model.add(Dense(256, kernel_initializer='normal',activation='relu'))\n",
    "NN_model.add(Dense(256, kernel_initializer='normal',activation='relu'))\n",
    "NN_model.add(Dense(256, kernel_initializer='normal',activation='relu'))\n",
    "# The Output Layer :\n",
    "NN_model.add(Dense(1, kernel_initializer='normal',activation='linear'))\n",
    "# Compile the network :\n",
    "NN_model.compile(loss='mean_absolute_error', optimizer='adam', metrics=['mean_absolute_error'])\n",
    "NN_model.summary()"
   ]
  },
  {
   "cell_type": "code",
   "execution_count": 12,
   "metadata": {},
   "outputs": [
    {
     "name": "stdout",
     "output_type": "stream",
     "text": [
      "WARNING:tensorflow:From C:\\Users\\vinod khoja\\AppData\\Local\\conda\\conda\\envs\\keras-gpu\\lib\\site-packages\\tensorflow\\python\\ops\\math_ops.py:3066: to_int32 (from tensorflow.python.ops.math_ops) is deprecated and will be removed in a future version.\n",
      "Instructions for updating:\n",
      "Use tf.cast instead.\n",
      "Train on 46 samples, validate on 9 samples\n",
      "Epoch 1/1000\n",
      "46/46 [==============================] - 4s 80ms/step - loss: 3.8391 - mean_absolute_error: 3.8391 - val_loss: 2.2207 - val_mean_absolute_error: 2.2207\n",
      "Epoch 2/1000\n",
      "46/46 [==============================] - 0s 434us/step - loss: 3.6957 - mean_absolute_error: 3.6957 - val_loss: 2.0221 - val_mean_absolute_error: 2.0221\n",
      "Epoch 3/1000\n",
      "46/46 [==============================] - 0s 564us/step - loss: 3.7426 - mean_absolute_error: 3.7426 - val_loss: 1.9967 - val_mean_absolute_error: 1.9967\n",
      "Epoch 4/1000\n",
      "46/46 [==============================] - 0s 499us/step - loss: 3.7283 - mean_absolute_error: 3.7283 - val_loss: 2.0733 - val_mean_absolute_error: 2.0733\n",
      "Epoch 5/1000\n",
      "46/46 [==============================] - 0s 455us/step - loss: 3.6966 - mean_absolute_error: 3.6966 - val_loss: 2.2268 - val_mean_absolute_error: 2.2268\n",
      "Epoch 6/1000\n",
      "46/46 [==============================] - 0s 585us/step - loss: 3.6870 - mean_absolute_error: 3.6870 - val_loss: 2.3545 - val_mean_absolute_error: 2.3545\n",
      "Epoch 7/1000\n",
      "46/46 [==============================] - 0s 564us/step - loss: 3.6888 - mean_absolute_error: 3.6888 - val_loss: 2.3057 - val_mean_absolute_error: 2.3057\n",
      "Epoch 8/1000\n",
      "46/46 [==============================] - 0s 498us/step - loss: 3.6734 - mean_absolute_error: 3.6734 - val_loss: 2.2259 - val_mean_absolute_error: 2.2259\n",
      "Epoch 9/1000\n",
      "46/46 [==============================] - 0s 542us/step - loss: 3.6554 - mean_absolute_error: 3.6554 - val_loss: 2.1222 - val_mean_absolute_error: 2.1222\n",
      "Epoch 10/1000\n",
      "46/46 [==============================] - 0s 499us/step - loss: 3.6690 - mean_absolute_error: 3.6690 - val_loss: 2.0399 - val_mean_absolute_error: 2.0399\n",
      "Epoch 11/1000\n",
      "46/46 [==============================] - 0s 607us/step - loss: 3.6696 - mean_absolute_error: 3.6696 - val_loss: 2.0481 - val_mean_absolute_error: 2.0481\n",
      "Epoch 12/1000\n",
      "46/46 [==============================] - 0s 564us/step - loss: 3.6533 - mean_absolute_error: 3.6533 - val_loss: 2.1182 - val_mean_absolute_error: 2.1182\n",
      "Epoch 13/1000\n",
      "46/46 [==============================] - 0s 694us/step - loss: 3.6418 - mean_absolute_error: 3.6418 - val_loss: 2.2410 - val_mean_absolute_error: 2.2410\n",
      "Epoch 14/1000\n",
      "46/46 [==============================] - 0s 499us/step - loss: 3.6214 - mean_absolute_error: 3.6214 - val_loss: 2.2748 - val_mean_absolute_error: 2.2748\n",
      "Epoch 15/1000\n",
      "46/46 [==============================] - 0s 716us/step - loss: 3.6119 - mean_absolute_error: 3.6119 - val_loss: 2.2249 - val_mean_absolute_error: 2.2249\n",
      "Epoch 16/1000\n",
      "46/46 [==============================] - 0s 455us/step - loss: 3.5888 - mean_absolute_error: 3.5888 - val_loss: 2.1754 - val_mean_absolute_error: 2.1754\n",
      "Epoch 17/1000\n",
      "46/46 [==============================] - 0s 434us/step - loss: 3.5636 - mean_absolute_error: 3.5636 - val_loss: 2.1349 - val_mean_absolute_error: 2.1349\n",
      "Epoch 18/1000\n",
      "46/46 [==============================] - 0s 412us/step - loss: 3.5327 - mean_absolute_error: 3.5327 - val_loss: 2.1580 - val_mean_absolute_error: 2.1580\n",
      "Epoch 19/1000\n",
      "46/46 [==============================] - 0s 542us/step - loss: 3.4852 - mean_absolute_error: 3.4852 - val_loss: 2.2379 - val_mean_absolute_error: 2.2379\n",
      "Epoch 20/1000\n",
      "46/46 [==============================] - 0s 433us/step - loss: 3.4346 - mean_absolute_error: 3.4346 - val_loss: 1.9174 - val_mean_absolute_error: 1.9174\n",
      "Epoch 21/1000\n",
      "46/46 [==============================] - 0s 477us/step - loss: 3.4112 - mean_absolute_error: 3.4112 - val_loss: 1.9950 - val_mean_absolute_error: 1.9950\n",
      "Epoch 22/1000\n",
      "46/46 [==============================] - 0s 607us/step - loss: 3.3440 - mean_absolute_error: 3.3440 - val_loss: 2.0348 - val_mean_absolute_error: 2.0348\n",
      "Epoch 23/1000\n",
      "46/46 [==============================] - ETA: 0s - loss: 2.8912 - mean_absolute_error: 2.891 - 0s 629us/step - loss: 3.2235 - mean_absolute_error: 3.2235 - val_loss: 1.7371 - val_mean_absolute_error: 1.7371\n",
      "Epoch 24/1000\n",
      "46/46 [==============================] - 0s 564us/step - loss: 3.2733 - mean_absolute_error: 3.2733 - val_loss: 1.7649 - val_mean_absolute_error: 1.7649\n",
      "Epoch 25/1000\n",
      "46/46 [==============================] - 0s 499us/step - loss: 3.0896 - mean_absolute_error: 3.0896 - val_loss: 1.9455 - val_mean_absolute_error: 1.9455\n",
      "Epoch 26/1000\n",
      "46/46 [==============================] - 0s 563us/step - loss: 3.0151 - mean_absolute_error: 3.0151 - val_loss: 1.5962 - val_mean_absolute_error: 1.5962\n",
      "Epoch 27/1000\n",
      "46/46 [==============================] - 0s 542us/step - loss: 3.0165 - mean_absolute_error: 3.0165 - val_loss: 1.5167 - val_mean_absolute_error: 1.5167\n",
      "Epoch 28/1000\n",
      "46/46 [==============================] - 0s 477us/step - loss: 2.8311 - mean_absolute_error: 2.8311 - val_loss: 1.9322 - val_mean_absolute_error: 1.9322\n",
      "Epoch 29/1000\n",
      "46/46 [==============================] - 0s 454us/step - loss: 2.7571 - mean_absolute_error: 2.7571 - val_loss: 1.3940 - val_mean_absolute_error: 1.3940\n",
      "Epoch 30/1000\n",
      "46/46 [==============================] - 0s 434us/step - loss: 2.6500 - mean_absolute_error: 2.6500 - val_loss: 1.4338 - val_mean_absolute_error: 1.4338\n",
      "Epoch 31/1000\n",
      "46/46 [==============================] - 0s 542us/step - loss: 2.6646 - mean_absolute_error: 2.6646 - val_loss: 1.4807 - val_mean_absolute_error: 1.4807\n",
      "Epoch 32/1000\n",
      "46/46 [==============================] - 0s 672us/step - loss: 2.5086 - mean_absolute_error: 2.5086 - val_loss: 2.1870 - val_mean_absolute_error: 2.1870\n",
      "Epoch 33/1000\n",
      "46/46 [==============================] - 0s 585us/step - loss: 2.5218 - mean_absolute_error: 2.5218 - val_loss: 1.1517 - val_mean_absolute_error: 1.1517\n",
      "Epoch 34/1000\n",
      "46/46 [==============================] - 0s 477us/step - loss: 2.3955 - mean_absolute_error: 2.3955 - val_loss: 1.2509 - val_mean_absolute_error: 1.2509\n",
      "Epoch 35/1000\n",
      "46/46 [==============================] - 0s 499us/step - loss: 2.3316 - mean_absolute_error: 2.3316 - val_loss: 2.1395 - val_mean_absolute_error: 2.1395\n",
      "Epoch 36/1000\n",
      "46/46 [==============================] - 0s 672us/step - loss: 2.3792 - mean_absolute_error: 2.3792 - val_loss: 2.6465 - val_mean_absolute_error: 2.6465\n",
      "Epoch 37/1000\n",
      "46/46 [==============================] - 0s 564us/step - loss: 2.8502 - mean_absolute_error: 2.8502 - val_loss: 1.8970 - val_mean_absolute_error: 1.8970\n",
      "Epoch 38/1000\n",
      "46/46 [==============================] - 0s 412us/step - loss: 2.1429 - mean_absolute_error: 2.1429 - val_loss: 1.3001 - val_mean_absolute_error: 1.3001\n",
      "Epoch 39/1000\n",
      "46/46 [==============================] - 0s 369us/step - loss: 2.2643 - mean_absolute_error: 2.2643 - val_loss: 1.0903 - val_mean_absolute_error: 1.0903\n",
      "Epoch 40/1000\n",
      "46/46 [==============================] - 0s 390us/step - loss: 2.1237 - mean_absolute_error: 2.1237 - val_loss: 1.6734 - val_mean_absolute_error: 1.6734\n",
      "Epoch 41/1000\n",
      "46/46 [==============================] - 0s 585us/step - loss: 1.8771 - mean_absolute_error: 1.8771 - val_loss: 1.7579 - val_mean_absolute_error: 1.7579\n",
      "Epoch 42/1000\n",
      "46/46 [==============================] - 0s 499us/step - loss: 1.9249 - mean_absolute_error: 1.9249 - val_loss: 1.5540 - val_mean_absolute_error: 1.5540\n",
      "Epoch 43/1000\n",
      "46/46 [==============================] - 0s 564us/step - loss: 1.7273 - mean_absolute_error: 1.7273 - val_loss: 1.2051 - val_mean_absolute_error: 1.2051\n",
      "Epoch 44/1000\n",
      "46/46 [==============================] - 0s 542us/step - loss: 1.6737 - mean_absolute_error: 1.6737 - val_loss: 0.8935 - val_mean_absolute_error: 0.8935\n",
      "Epoch 45/1000\n",
      "46/46 [==============================] - 0s 477us/step - loss: 1.8234 - mean_absolute_error: 1.8234 - val_loss: 1.7558 - val_mean_absolute_error: 1.7558\n",
      "Epoch 46/1000\n",
      "46/46 [==============================] - 0s 520us/step - loss: 1.5552 - mean_absolute_error: 1.5552 - val_loss: 2.3033 - val_mean_absolute_error: 2.3033\n",
      "Epoch 47/1000\n",
      "46/46 [==============================] - 0s 412us/step - loss: 1.9677 - mean_absolute_error: 1.9677 - val_loss: 2.1764 - val_mean_absolute_error: 2.1764\n"
     ]
    },
    {
     "data": {
      "text/plain": [
       "<keras.callbacks.History at 0x165dc513198>"
      ]
     },
     "execution_count": 12,
     "metadata": {},
     "output_type": "execute_result"
    }
   ],
   "source": [
    "NN_model.fit(X_train,y_train, epochs=1000, batch_size=32, validation_split = 0.15)"
   ]
  },
  {
   "cell_type": "code",
   "execution_count": 13,
   "metadata": {},
   "outputs": [],
   "source": [
    "predictions = NN_model.predict(X_test)"
   ]
  },
  {
   "cell_type": "code",
   "execution_count": 14,
   "metadata": {},
   "outputs": [
    {
     "data": {
      "text/plain": [
       "0.9814026015948297"
      ]
     },
     "execution_count": 14,
     "metadata": {},
     "output_type": "execute_result"
    }
   ],
   "source": [
    "import sklearn.metrics as metrics\n",
    "metrics.explained_variance_score(y_test, predictions)"
   ]
  },
  {
   "cell_type": "code",
   "execution_count": 15,
   "metadata": {},
   "outputs": [
    {
     "data": {
      "text/plain": [
       "array([[ 0.13663755],\n",
       "       [ 0.14261046],\n",
       "       [ 0.16209511],\n",
       "       [ 0.18309559],\n",
       "       [ 0.20207587],\n",
       "       [ 0.26218423],\n",
       "       [ 0.32516557],\n",
       "       [ 0.40721065],\n",
       "       [ 0.6285164 ],\n",
       "       [ 1.014555  ],\n",
       "       [ 1.0932261 ],\n",
       "       [ 1.6719658 ],\n",
       "       [ 2.2518427 ],\n",
       "       [ 3.4606133 ],\n",
       "       [ 4.633247  ],\n",
       "       [ 5.731708  ],\n",
       "       [ 7.1075883 ],\n",
       "       [ 9.27016   ],\n",
       "       [10.445236  ],\n",
       "       [14.425582  ],\n",
       "       [19.812534  ],\n",
       "       [32.08703   ]], dtype=float32)"
      ]
     },
     "execution_count": 15,
     "metadata": {},
     "output_type": "execute_result"
    }
   ],
   "source": [
    "predictions"
   ]
  },
  {
   "cell_type": "code",
   "execution_count": 17,
   "metadata": {},
   "outputs": [
    {
     "data": {
      "text/html": [
       "<div>\n",
       "<style scoped>\n",
       "    .dataframe tbody tr th:only-of-type {\n",
       "        vertical-align: middle;\n",
       "    }\n",
       "\n",
       "    .dataframe tbody tr th {\n",
       "        vertical-align: top;\n",
       "    }\n",
       "\n",
       "    .dataframe thead th {\n",
       "        text-align: right;\n",
       "    }\n",
       "</style>\n",
       "<table border=\"1\" class=\"dataframe\">\n",
       "  <thead>\n",
       "    <tr style=\"text-align: right;\">\n",
       "      <th></th>\n",
       "      <th>crack_growth_rate</th>\n",
       "    </tr>\n",
       "  </thead>\n",
       "  <tbody>\n",
       "    <tr>\n",
       "      <td>21</td>\n",
       "      <td>0.0761</td>\n",
       "    </tr>\n",
       "    <tr>\n",
       "      <td>22</td>\n",
       "      <td>0.1150</td>\n",
       "    </tr>\n",
       "    <tr>\n",
       "      <td>23</td>\n",
       "      <td>0.1730</td>\n",
       "    </tr>\n",
       "    <tr>\n",
       "      <td>24</td>\n",
       "      <td>0.1890</td>\n",
       "    </tr>\n",
       "    <tr>\n",
       "      <td>25</td>\n",
       "      <td>0.2430</td>\n",
       "    </tr>\n",
       "    <tr>\n",
       "      <td>26</td>\n",
       "      <td>0.2800</td>\n",
       "    </tr>\n",
       "    <tr>\n",
       "      <td>27</td>\n",
       "      <td>0.3940</td>\n",
       "    </tr>\n",
       "    <tr>\n",
       "      <td>28</td>\n",
       "      <td>0.4880</td>\n",
       "    </tr>\n",
       "    <tr>\n",
       "      <td>29</td>\n",
       "      <td>0.5740</td>\n",
       "    </tr>\n",
       "    <tr>\n",
       "      <td>30</td>\n",
       "      <td>0.7910</td>\n",
       "    </tr>\n",
       "    <tr>\n",
       "      <td>31</td>\n",
       "      <td>0.9800</td>\n",
       "    </tr>\n",
       "    <tr>\n",
       "      <td>32</td>\n",
       "      <td>1.4800</td>\n",
       "    </tr>\n",
       "    <tr>\n",
       "      <td>33</td>\n",
       "      <td>1.9700</td>\n",
       "    </tr>\n",
       "    <tr>\n",
       "      <td>34</td>\n",
       "      <td>2.9700</td>\n",
       "    </tr>\n",
       "    <tr>\n",
       "      <td>35</td>\n",
       "      <td>3.8800</td>\n",
       "    </tr>\n",
       "    <tr>\n",
       "      <td>36</td>\n",
       "      <td>5.7600</td>\n",
       "    </tr>\n",
       "    <tr>\n",
       "      <td>37</td>\n",
       "      <td>7.6600</td>\n",
       "    </tr>\n",
       "    <tr>\n",
       "      <td>38</td>\n",
       "      <td>9.6500</td>\n",
       "    </tr>\n",
       "    <tr>\n",
       "      <td>39</td>\n",
       "      <td>11.3000</td>\n",
       "    </tr>\n",
       "    <tr>\n",
       "      <td>40</td>\n",
       "      <td>17.4000</td>\n",
       "    </tr>\n",
       "    <tr>\n",
       "      <td>41</td>\n",
       "      <td>19.0000</td>\n",
       "    </tr>\n",
       "    <tr>\n",
       "      <td>42</td>\n",
       "      <td>28.7000</td>\n",
       "    </tr>\n",
       "  </tbody>\n",
       "</table>\n",
       "</div>"
      ],
      "text/plain": [
       "    crack_growth_rate\n",
       "21             0.0761\n",
       "22             0.1150\n",
       "23             0.1730\n",
       "24             0.1890\n",
       "25             0.2430\n",
       "26             0.2800\n",
       "27             0.3940\n",
       "28             0.4880\n",
       "29             0.5740\n",
       "30             0.7910\n",
       "31             0.9800\n",
       "32             1.4800\n",
       "33             1.9700\n",
       "34             2.9700\n",
       "35             3.8800\n",
       "36             5.7600\n",
       "37             7.6600\n",
       "38             9.6500\n",
       "39            11.3000\n",
       "40            17.4000\n",
       "41            19.0000\n",
       "42            28.7000"
      ]
     },
     "execution_count": 17,
     "metadata": {},
     "output_type": "execute_result"
    }
   ],
   "source": [
    "y_test"
   ]
  },
  {
   "cell_type": "code",
   "execution_count": 18,
   "metadata": {},
   "outputs": [
    {
     "data": {
      "text/plain": [
       "(22, 1)"
      ]
     },
     "execution_count": 18,
     "metadata": {},
     "output_type": "execute_result"
    }
   ],
   "source": [
    "y_test.shape"
   ]
  },
  {
   "cell_type": "code",
   "execution_count": 19,
   "metadata": {},
   "outputs": [],
   "source": [
    "actual_y = y_test.values\n",
    "error =0\n",
    "for i in range(22):\n",
    "    error += abs((actual_y[i])-(predictions[i]))\n",
    "    "
   ]
  },
  {
   "cell_type": "code",
   "execution_count": 20,
   "metadata": {},
   "outputs": [
    {
     "data": {
      "text/plain": [
       "array([0.51870799])"
      ]
     },
     "execution_count": 20,
     "metadata": {},
     "output_type": "execute_result"
    }
   ],
   "source": [
    "error/22"
   ]
  },
  {
   "cell_type": "code",
   "execution_count": 21,
   "metadata": {},
   "outputs": [
    {
     "data": {
      "text/plain": [
       "R                    0.197403\n",
       "delta_K              5.721191\n",
       "crack_growth_rate    4.147470\n",
       "dtype: float64"
      ]
     },
     "execution_count": 21,
     "metadata": {},
     "output_type": "execute_result"
    }
   ],
   "source": [
    "data.mean()"
   ]
  },
  {
   "cell_type": "code",
   "execution_count": 22,
   "metadata": {},
   "outputs": [],
   "source": [
    "percentage_error = 0\n",
    "total_error = 0\n",
    "total_per_error = 0\n",
    "for i in range(22):\n",
    "    per_error = ((abs(actual_y[i]-predictions[i]))/(actual_y[i]) )* 100\n",
    "    percentage_error += per_error\n",
    "    "
   ]
  },
  {
   "cell_type": "code",
   "execution_count": 23,
   "metadata": {},
   "outputs": [
    {
     "data": {
      "text/plain": [
       "array([15.23252581])"
      ]
     },
     "execution_count": 23,
     "metadata": {},
     "output_type": "execute_result"
    }
   ],
   "source": [
    "percentage_error / 22"
   ]
  },
  {
   "cell_type": "code",
   "execution_count": 26,
   "metadata": {},
   "outputs": [
    {
     "name": "stderr",
     "output_type": "stream",
     "text": [
      "C:\\Users\\vinod khoja\\AppData\\Local\\conda\\conda\\envs\\keras-gpu\\lib\\site-packages\\ipykernel_launcher.py:3: MatplotlibDeprecationWarning: Adding an axes using the same arguments as a previous axes currently reuses the earlier instance.  In a future version, a new instance will always be created and returned.  Meanwhile, this warning can be suppressed, and the future behavior ensured, by passing a unique label to each axes instance.\n",
      "  This is separate from the ipykernel package so we can avoid doing imports until\n"
     ]
    },
    {
     "data": {
      "image/png": "[encoded data removed]",
      "text/plain": [
       "<Figure size 720x720 with 1 Axes>"
      ]
     },
     "metadata": {
      "needs_background": "light"
     },
     "output_type": "display_data"
    }
   ],
   "source": [
    "\n",
    "fig = plt.figure(figsize=(10,10))\n",
    "plt.yscale('log')\n",
    "ax0= fig.add_subplot(111)\n",
    "line1=ax0.scatter(X_test.delta_K, predictions, c= 'b',marker ='.',label='Neural network pedictions')\n",
    "line2=ax0.scatter(X_test.delta_K,y_test, c= 'r' , marker ='.',label='Experimental data')\n",
    "ax0.set_xlabel('Stress Intensity factor range',fontsize =20)\n",
    "ax0.set_ylabel('Crack growth rate(mm/cycle)',fontsize =20)\n",
    "ax0.set_title('R =0.1')\n",
    "ax0.legend(fontsize=18)\n",
    "plt.savefig('NN_on_unseen_R.png')\n",
    "#ax0.set_facecolor('#82cafc')"
   ]
  },
  {
   "cell_type": "code",
   "execution_count": 98,
   "metadata": {},
   "outputs": [],
   "source": [
    "my_X = data.drop(['crack_growth_rate'],axis=1)\n",
    "y=data.drop(['R','delta_K'],axis=1)\n",
    "#predicting_on_complete_dataset = NN_model.predict(my_X)"
   ]
  },
  {
   "cell_type": "code",
   "execution_count": 19,
   "metadata": {},
   "outputs": [],
   "source": [
    "#predicting_on_complete_dataset.shape\n",
    "my_y = y.values"
   ]
  },
  {
   "cell_type": "code",
   "execution_count": 20,
   "metadata": {},
   "outputs": [],
   "source": [
    "percentage_error = 0\n",
    "total_error = 0\n",
    "total_per_error = 0\n",
    "for i in range(77):\n",
    "    per_error = ((abs(my_y[i]-predicted_dadN[i]))/(my_y[i]) )* 100\n",
    "    percentage_error += per_error"
   ]
  },
  {
   "cell_type": "code",
   "execution_count": 21,
   "metadata": {},
   "outputs": [
    {
     "data": {
      "text/plain": [
       "array([10.27821042])"
      ]
     },
     "execution_count": 21,
     "metadata": {},
     "output_type": "execute_result"
    }
   ],
   "source": [
    "percentage_error/77"
   ]
  },
  {
   "cell_type": "code",
   "execution_count": 9,
   "metadata": {},
   "outputs": [
    {
     "ename": "NameError",
     "evalue": "name 'NN_model' is not defined",
     "output_type": "error",
     "traceback": [
      "\u001b[1;31m---------------------------------------------------------------------------\u001b[0m",
      "\u001b[1;31mNameError\u001b[0m                                 Traceback (most recent call last)",
      "\u001b[1;32m<ipython-input-9-1bc4521e8f48>\u001b[0m in \u001b[0;36m<module>\u001b[1;34m\u001b[0m\n\u001b[1;32m----> 1\u001b[1;33m \u001b[0mmodel_json\u001b[0m \u001b[1;33m=\u001b[0m \u001b[0mNN_model\u001b[0m\u001b[1;33m.\u001b[0m\u001b[0mto_json\u001b[0m\u001b[1;33m(\u001b[0m\u001b[1;33m)\u001b[0m\u001b[1;33m\u001b[0m\u001b[1;33m\u001b[0m\u001b[0m\n\u001b[0m\u001b[0;32m      2\u001b[0m \u001b[1;32mwith\u001b[0m \u001b[0mopen\u001b[0m\u001b[1;33m(\u001b[0m\u001b[1;34m\"model.json\"\u001b[0m\u001b[1;33m,\u001b[0m \u001b[1;34m\"w\"\u001b[0m\u001b[1;33m)\u001b[0m \u001b[1;32mas\u001b[0m \u001b[0mjson_file\u001b[0m\u001b[1;33m:\u001b[0m\u001b[1;33m\u001b[0m\u001b[1;33m\u001b[0m\u001b[0m\n\u001b[0;32m      3\u001b[0m     \u001b[0mjson_file\u001b[0m\u001b[1;33m.\u001b[0m\u001b[0mwrite\u001b[0m\u001b[1;33m(\u001b[0m\u001b[0mmodel_json\u001b[0m\u001b[1;33m)\u001b[0m\u001b[1;33m\u001b[0m\u001b[1;33m\u001b[0m\u001b[0m\n\u001b[0;32m      4\u001b[0m \u001b[0mNN_model\u001b[0m\u001b[1;33m.\u001b[0m\u001b[0msave_weights\u001b[0m\u001b[1;33m(\u001b[0m\u001b[1;34m\"model.h5\"\u001b[0m\u001b[1;33m)\u001b[0m\u001b[1;33m\u001b[0m\u001b[1;33m\u001b[0m\u001b[0m\n\u001b[0;32m      5\u001b[0m \u001b[0mprint\u001b[0m\u001b[1;33m(\u001b[0m\u001b[1;34m\"Saved model to disk\"\u001b[0m\u001b[1;33m)\u001b[0m\u001b[1;33m\u001b[0m\u001b[1;33m\u001b[0m\u001b[0m\n",
      "\u001b[1;31mNameError\u001b[0m: name 'NN_model' is not defined"
     ]
    }
   ],
   "source": [
    "model_json = NN_model.to_json()\n",
    "with open(\"model.json\", \"w\") as json_file:\n",
    "    json_file.write(model_json)\n",
    "NN_model.save_weights(\"model.h5\")\n",
    "print(\"Saved model to disk\")"
   ]
  },
  {
   "cell_type": "code",
   "execution_count": 9,
   "metadata": {},
   "outputs": [
    {
     "name": "stdout",
     "output_type": "stream",
     "text": [
      "WARNING:tensorflow:From C:\\Users\\vinod khoja\\AppData\\Local\\conda\\conda\\envs\\keras-gpu\\lib\\site-packages\\tensorflow\\python\\framework\\op_def_library.py:263: colocate_with (from tensorflow.python.framework.ops) is deprecated and will be removed in a future version.\n",
      "Instructions for updating:\n",
      "Colocations handled automatically by placer.\n",
      "Loaded model from disk\n"
     ]
    }
   ],
   "source": [
    "json_file = open('model.json', 'r')\n",
    "loaded_model_json = json_file.read()\n",
    "json_file.close()\n",
    "loaded_model = model_from_json(loaded_model_json)\n",
    "# load weights into new model\n",
    "\n",
    "loaded_model.load_weights(\"model.h5\")\n",
    "print(\"Loaded model from disk\")\n",
    "\n",
    "loaded_model.compile(loss='mean_absolute_error', optimizer='adam', metrics=['mean_absolute_error'])"
   ]
  },
  {
   "cell_type": "code",
   "execution_count": 10,
   "metadata": {},
   "outputs": [],
   "source": [
    "complete_features = data.drop(\"crack_growth_rate\", axis = 1)"
   ]
  },
  {
   "cell_type": "code",
   "execution_count": 11,
   "metadata": {},
   "outputs": [],
   "source": [
    "predicted_dadN = loaded_model.predict(complete_features)"
   ]
  },
  {
   "cell_type": "code",
   "execution_count": 12,
   "metadata": {},
   "outputs": [],
   "source": [
    "original_data[\"predicted_crack_growth_rate\"] = predicted_dadN * (10**(-5))\n",
    "#Now original data contains predicted and experimental values"
   ]
  },
  {
   "cell_type": "code",
   "execution_count": 25,
   "metadata": {},
   "outputs": [
    {
     "data": {
      "image/png": "[encoded data removed]",
      "text/plain": [
       "<Figure size 720x720 with 1 Axes>"
      ]
     },
     "metadata": {
      "needs_background": "light"
     },
     "output_type": "display_data"
    }
   ],
   "source": [
    "from mpl_toolkits.mplot3d import axes3d\n",
    "import matplotlib.pyplot as plt\n",
    "fig = plt.figure(figsize = (10,10))\n",
    "ax = fig.add_subplot(111, projection = '3d')\n",
    "\n",
    "#plt.gca().patch.set_facecolor('white')\n",
    "ax.w_xaxis.set_pane_color((0.8, 0.8, 0.8, 1.0))\n",
    "ax.w_yaxis.set_pane_color((0.8, 0.8, 0.8, 1.0))\n",
    "ax.w_zaxis.set_pane_color((0.8, 0.8, 0.8, 1.0))\n",
    "\n",
    "X = data['R'].values\n",
    "Y = data['delta_K'].values\n",
    "Z = data['crack_growth_rate'].values\n",
    "ax.scatter(X,Y,Z, c = 'b' , marker = '.')\n",
    "ax.set_xlabel('R(stress ratio)',fontsize =20)\n",
    "ax.set_ylabel('Stress Intensity factor range',fontsize =16)\n",
    "ax.set_zlabel('crack growth rate(mm/cycle)',fontsize =16)\n",
    "#ax.grid(False)\n",
    "plt.savefig('training_data.png')\n",
    "plt.show()"
   ]
  },
  {
   "cell_type": "code",
   "execution_count": 14,
   "metadata": {},
   "outputs": [],
   "source": [
    "subdf_0 = data.loc[data['R'] == 0]\n",
    "subdf_1 = data.loc[data['R'] == 0.1]\n",
    "subdf_3 = data.loc[data['R'] == 0.3]\n",
    "subdf_5 = data.loc[data['R'] == 0.5]"
   ]
  },
  {
   "cell_type": "code",
   "execution_count": 16,
   "metadata": {},
   "outputs": [],
   "source": [
    "## predict for R = 0\n",
    "r0_data_predictions = loaded_model.predict(subdf_0.drop(\"crack_growth_rate\",axis = 1))"
   ]
  },
  {
   "cell_type": "code",
   "execution_count": 17,
   "metadata": {},
   "outputs": [],
   "source": [
    "# one hell of a result/.///chill"
   ]
  },
  {
   "cell_type": "code",
   "execution_count": 18,
   "metadata": {},
   "outputs": [
    {
     "name": "stdout",
     "output_type": "stream",
     "text": [
      "funcion coefficients:\n",
      "[1.98424357e-10 5.64557757e+00]\n"
     ]
    }
   ],
   "source": [
    "#fitting the parislaw\n",
    "from scipy.optimize import curve_fit \n",
    "indexes = np.sort(np.random.choice(21, size=15, replace=False))\n",
    "paris_y = (subdf_0.crack_growth_rate.values[indexes])* (10**(-5))\n",
    "\n",
    "paris_x = subdf_0.delta_K.values[indexes]\n",
    "  \n",
    "def test(paris_x, C, m): \n",
    "    return C * (paris_x ** (m)) \n",
    "  \n",
    "param, param_cov = curve_fit(test, paris_x, paris_y) \n",
    "  \n",
    "print(\"funcion coefficients:\") \n",
    "print(param) \n"
   ]
  },
  {
   "cell_type": "code",
   "execution_count": 19,
   "metadata": {},
   "outputs": [],
   "source": [
    "paris_x_test = subdf_0.delta_K.values\n",
    "paris_predictions = param[0] * ((paris_x_test)**(param[1]))"
   ]
  },
  {
   "cell_type": "code",
   "execution_count": 20,
   "metadata": {},
   "outputs": [
    {
     "data": {
      "text/plain": [
       "array([1.72237886e-07, 1.88217577e-07, 2.13791122e-07, 2.42841667e-07,\n",
       "       2.80261605e-07, 3.36208056e-07, 3.88019065e-07, 6.68320397e-07,\n",
       "       1.83929288e-06, 3.27796539e-06, 4.97061701e-06, 6.07233904e-06,\n",
       "       1.10208382e-05, 1.25182917e-05, 2.44354122e-05, 3.20325603e-05,\n",
       "       5.60588050e-05, 1.00135155e-04, 1.75241063e-04, 2.29726169e-04,\n",
       "       3.61263252e-04])"
      ]
     },
     "execution_count": 20,
     "metadata": {},
     "output_type": "execute_result"
    }
   ],
   "source": [
    "paris_predictions"
   ]
  },
  {
   "cell_type": "code",
   "execution_count": 21,
   "metadata": {
    "scrolled": true
   },
   "outputs": [
    {
     "name": "stderr",
     "output_type": "stream",
     "text": [
      "C:\\Users\\vinod khoja\\AppData\\Local\\conda\\conda\\envs\\keras-gpu\\lib\\site-packages\\ipykernel_launcher.py:3: MatplotlibDeprecationWarning: Adding an axes using the same arguments as a previous axes currently reuses the earlier instance.  In a future version, a new instance will always be created and returned.  Meanwhile, this warning can be suppressed, and the future behavior ensured, by passing a unique label to each axes instance.\n",
      "  This is separate from the ipykernel package so we can avoid doing imports until\n"
     ]
    },
    {
     "data": {
      "image/png": "[encoded data removed]",
      "text/plain": [
       "<Figure size 720x720 with 1 Axes>"
      ]
     },
     "metadata": {
      "needs_background": "light"
     },
     "output_type": "display_data"
    }
   ],
   "source": [
    "fig = plt.figure(figsize=(10,10))\n",
    "plt.yscale('log')\n",
    "ax0= fig.add_subplot(111)\n",
    "line1=ax0.scatter(subdf_0.delta_K, r0_data_predictions, c= 'b',marker ='.',label='Neural network pedictions')\n",
    "line2=ax0.scatter(subdf_0.delta_K,subdf_0.crack_growth_rate, c= 'r' , marker ='.',label='Experimental data')\n",
    "ax0.set_xlabel('Stress Intensity factor range',fontsize =20)\n",
    "ax0.set_ylabel('Crack growth rate(mm/cycle)',fontsize =20)\n",
    "\n",
    "ax0.legend(fontsize=18)\n",
    "#ax0.set_facecolor('#82cafc')\n",
    "plt.savefig('NN_with_exp_data.png')\n",
    "# ax0.scatter(subdf_1.delta_K,subdf_1.crack_growth_rate, c= 'b' , marker ='.')\n",
    "# ax0.scatter(subdf_3.delta_K,subdf_3.crack_growth_rate, c= 'b' , marker ='o')\n",
    "# ax0.scatter(subdf_5.delta_K,subdf_5.crack_growth_rate, c= 'r' , marker ='o')\n"
   ]
  },
  {
   "cell_type": "code",
   "execution_count": 22,
   "metadata": {},
   "outputs": [
    {
     "name": "stderr",
     "output_type": "stream",
     "text": [
      "C:\\Users\\vinod khoja\\AppData\\Local\\conda\\conda\\envs\\keras-gpu\\lib\\site-packages\\ipykernel_launcher.py:6: MatplotlibDeprecationWarning: Adding an axes using the same arguments as a previous axes currently reuses the earlier instance.  In a future version, a new instance will always be created and returned.  Meanwhile, this warning can be suppressed, and the future behavior ensured, by passing a unique label to each axes instance.\n",
      "  \n"
     ]
    },
    {
     "data": {
      "image/png": "[encoded data removed]",
      "text/plain": [
       "<Figure size 720x720 with 1 Axes>"
      ]
     },
     "metadata": {
      "needs_background": "light"
     },
     "output_type": "display_data"
    }
   ],
   "source": [
    "#plotting paris_predictions with experimental_data\n",
    "fig = plt.figure(figsize=(10,10))\n",
    "plt.yscale('log')\n",
    "#plt.rcParams.update({'font.size':15})\n",
    "\n",
    "ax0= fig.add_subplot(111)\n",
    "ax0.scatter(subdf_0.delta_K, paris_predictions*(10**5), c= 'b',marker ='.',label='Paris law results')\n",
    "ax0.scatter(subdf_0.delta_K,subdf_0.crack_growth_rate, c= 'r' , marker ='.',label='Experimental data')\n",
    "ax0.set_xlabel('Stress Intensity factor range',fontsize=20)\n",
    "ax0.set_ylabel('Crack growth rate(mm/cycle)',fontsize =20)\n",
    "ax0.legend(fontsize=18)\n",
    "plt.savefig('paris_law_with_exp_data.png')"
   ]
  },
  {
   "cell_type": "code",
   "execution_count": 23,
   "metadata": {},
   "outputs": [
    {
     "name": "stdout",
     "output_type": "stream",
     "text": [
      "MSE of the Paris model is :\n",
      "8.042189074573223e-10\n",
      "MSW of the Neural Network model is :\n",
      "[1.6599495e-10]\n"
     ]
    }
   ],
   "source": [
    "# calculating the mean squared error for both Paris and Sequenial Neural Network models\n",
    "paris_error = 0\n",
    "NN_error = 0\n",
    "experimental_dadN = subdf_0.crack_growth_rate.values\n",
    "for i in range(20):\n",
    "    paris_error += abs((experimental_dadN[i] * (10 **(-5)))**(2) - (paris_predictions[i])**(2))\n",
    "    NN_error+=abs((experimental_dadN[i] * (10**(-5)))**(2) - (r0_data_predictions[i] * (10 ** (-5)))**(2))\n",
    "print(\"MSE of the Paris model is :\")\n",
    "print(paris_error/21)\n",
    "\n",
    "##as paris model's MSE is calculated completely on training_data itself it is likely to show better MSE than teh actual.\n",
    "## train on only 15 points and then test on all 21 points to achieve a clear comparison.\n",
    "print(\"MSW of the Neural Network model is :\")\n",
    "print(NN_error/21)"
   ]
  },
  {
   "cell_type": "code",
   "execution_count": 24,
   "metadata": {},
   "outputs": [
    {
     "data": {
      "text/plain": [
       "22"
      ]
     },
     "execution_count": 24,
     "metadata": {},
     "output_type": "execute_result"
    }
   ],
   "source": [
    "subdf_1.shape[0]"
   ]
  },
  {
   "cell_type": "code",
   "execution_count": 66,
   "metadata": {},
   "outputs": [
    {
     "name": "stdout",
     "output_type": "stream",
     "text": [
      " funcion coefficients for R = 0:\n",
      "[7.80051803e-11 6.00414583e+00]\n",
      "MSE of the Paris model for R = 0 is :\n",
      "4.9082523589782183e-11\n",
      "MSW of the Neural Network model for R = 0is :\n",
      "[1.2452005e-11]\n",
      " funcion coefficients for R = 0.1:\n",
      "[8.43508902e-09 4.28370292e+00]\n",
      "MSE of the Paris model for R = 0.1 is :\n",
      "8.45763133493784e-11\n",
      "MSW of the Neural Network model for R = 0.1is :\n",
      "[2.1946324e-10]\n",
      " funcion coefficients for R = 0.3:\n",
      "[1.24933028e-08 4.34135694e+00]\n",
      "MSE of the Paris model for R = 0.3 is :\n",
      "3.3165045149823595e-11\n",
      "MSW of the Neural Network model for R = 0.3is :\n",
      "[5.297075e-12]\n",
      " funcion coefficients for R = 0.5:\n",
      "[2.74384175e-10 6.81710814e+00]\n",
      "MSE of the Paris model for R = 0.5 is :\n",
      "7.595708011945337e-12\n",
      "MSW of the Neural Network model for R = 0.5is :\n",
      "[4.042171e-10]\n"
     ]
    }
   ],
   "source": [
    "Rs = [0,0.1,0.3,0.5]\n",
    "from scipy.optimize import curve_fit\n",
    "\n",
    "for r in Rs:\n",
    "    subdf_any = data.loc[data['R'] == r]\n",
    "    nn_predictions = NN_model.predict(subdf_any.drop(\"crack_growth_rate\",axis = 1))\n",
    "    indexes = np.sort(np.random.choice(subdf_any.shape[0], size=14, replace=False))\n",
    "    paris_y = (subdf_any.crack_growth_rate.values[indexes])* (10**(-5))\n",
    "    paris_x = subdf_any.delta_K.values[indexes]\n",
    "    def test(paris_x, C, m): \n",
    "        return C * (paris_x ** (m))\n",
    "    param, param_cov = curve_fit(test, paris_x, paris_y)\n",
    "    print(\" funcion coefficients for R = \" + str(r) +\":\") \n",
    "    print(param)\n",
    "    paris_x_test = subdf_any.delta_K.values\n",
    "    paris_predictions1 = param[0] * ((paris_x_test)**(param[1]))\n",
    "    paris_error = 0\n",
    "    NN_error = 0\n",
    "    experimental_dadN = subdf_any.crack_growth_rate.values\n",
    "    for i in range(subdf_any.shape[0]):\n",
    "        paris_error += ((experimental_dadN[i] * (10 **(-5))) - (paris_predictions1[i]))**2\n",
    "        NN_error+=((experimental_dadN[i] * (10**(-5))) - (nn_predictions[i] * (10 ** (-5))))**2\n",
    "    print(\"MSE of the Paris model for R = \" + str(r) + \" is :\")\n",
    "    print(paris_error/subdf_any.shape[0])\n",
    "    print(\"MSW of the Neural Network model for R = \" + str(r) + \"is :\")\n",
    "    print(NN_error/subdf_any.shape[0])"
   ]
  },
  {
   "cell_type": "code",
   "execution_count": 47,
   "metadata": {},
   "outputs": [
    {
     "name": "stdout",
     "output_type": "stream",
     "text": [
      " funcion coefficients:\n",
      "[8.29404654e-09 4.29950662e+00]\n",
      "MSE of the Paris model is :\n",
      "1.2703613512923632e-09\n",
      "MSW of the Neural Network model is :\n",
      "[3.156272e-10]\n"
     ]
    }
   ],
   "source": [
    "## predict for R = 0.1\n",
    "r1_data_predictions = loaded_model.predict(subdf_1.drop(\"crack_growth_rate\",axis = 1))\n",
    "indexes = np.sort(np.random.choice(22, size=15, replace=False))\n",
    "paris_y = (subdf_1.crack_growth_rate.values[indexes])* (10**(-5))\n",
    "\n",
    "paris_x = subdf_1.delta_K.values[indexes]\n",
    "  \n",
    "def test(paris_x, C, m): \n",
    "    return C * (paris_x ** (m)) \n",
    "  \n",
    "param, param_cov = curve_fit(test, paris_x, paris_y) \n",
    "  \n",
    "print(\" funcion coefficients:\") \n",
    "print(param) \n",
    "\n",
    "paris_x_test = subdf_1.delta_K.values\n",
    "paris_predictions1 = param[0] * ((paris_x_test)**(param[1]))\n",
    "paris_error = 0\n",
    "NN_error = 0\n",
    "experimental_dadN = subdf_1.crack_growth_rate.values\n",
    "for i in range(22):\n",
    "    paris_error += abs((experimental_dadN[i] * (10 **(-5)))**(2) - (paris_predictions1[i])**(2))\n",
    "    NN_error+=abs((experimental_dadN[i] * (10**(-5)))**(2) - (r1_data_predictions[i] * (10 ** (-5)))**(2))\n",
    "print(\"MSE of the Paris model is :\")\n",
    "print(paris_error/22)\n",
    "\n",
    "##as paris model's MSE is calculated completely on training_data itself it is likely to show better MSE than teh actual.\n",
    "## train on only 15 points and then test on all 21 points to achieve a clear comparison.\n",
    "print(\"MSW of the Neural Network model is :\")\n",
    "print(NN_error/22)"
   ]
  },
  {
   "cell_type": "code",
   "execution_count": 48,
   "metadata": {},
   "outputs": [
    {
     "data": {
      "text/plain": [
       "(20, 3)"
      ]
     },
     "execution_count": 48,
     "metadata": {},
     "output_type": "execute_result"
    }
   ],
   "source": [
    "subdf_3.shape"
   ]
  },
  {
   "cell_type": "code",
   "execution_count": 50,
   "metadata": {},
   "outputs": [
    {
     "name": "stdout",
     "output_type": "stream",
     "text": [
      " funcion coefficients:\n",
      "[1.73419148e-08 4.18327610e+00]\n",
      "MSE of the Paris model is :\n",
      "3.688890229109397e-10\n",
      "MSW of the Neural Network model is :\n",
      "[4.4120457e-10]\n"
     ]
    }
   ],
   "source": [
    "## predict for R = 0.3\n",
    "r3_data_predictions = loaded_model.predict(subdf_3.drop(\"crack_growth_rate\",axis = 1))\n",
    "indexes = np.sort(np.random.choice(20, size=15, replace=False))\n",
    "paris_y = (subdf_3.crack_growth_rate.values[indexes])* (10**(-5))\n",
    "\n",
    "paris_x = subdf_3.delta_K.values[indexes]\n",
    "  \n",
    "def test(paris_x, C, m): \n",
    "    return C * (paris_x ** (m)) \n",
    "  \n",
    "param, param_cov = curve_fit(test, paris_x, paris_y) \n",
    "  \n",
    "print(\" funcion coefficients:\") \n",
    "print(param) \n",
    "\n",
    "paris_x_test = subdf_3.delta_K.values\n",
    "paris_predictions3 = param[0] * ((paris_x_test)**(param[1]))\n",
    "paris_error = 0\n",
    "NN_error = 0\n",
    "experimental_dadN = subdf_3.crack_growth_rate.values\n",
    "for i in range(20):\n",
    "    paris_error += abs((experimental_dadN[i] * (10 **(-5)))**(2) - (paris_predictions3[i])**(2))\n",
    "    NN_error+=abs((experimental_dadN[i] * (10**(-5)))**(2) - (r3_data_predictions[i] * (10 ** (-5)))**(2))\n",
    "print(\"MSE of the Paris model is :\")\n",
    "print(paris_error/20)\n",
    "\n",
    "##as paris model's MSE is calculated completely on training_data itself it is likely to show better MSE than teh actual.\n",
    "## train on only 15 points and then test on all 21 points to achieve a clear comparison.\n",
    "print(\"MSW of the Neural Network model is :\")\n",
    "print(NN_error/20)"
   ]
  },
  {
   "cell_type": "code",
   "execution_count": 94,
   "metadata": {},
   "outputs": [
    {
     "data": {
      "text/plain": [
       "(14, 3)"
      ]
     },
     "execution_count": 94,
     "metadata": {},
     "output_type": "execute_result"
    }
   ],
   "source": [
    "subdf_5.shape"
   ]
  },
  {
   "cell_type": "code",
   "execution_count": 53,
   "metadata": {},
   "outputs": [
    {
     "name": "stdout",
     "output_type": "stream",
     "text": [
      " funcion coefficients:\n",
      "[4.68317547e-10 6.54928019e+00]\n",
      "MSE of the Paris model is :\n",
      "1.1520674213275249e-10\n",
      "MSW of the Neural Network model is :\n",
      "[4.2585763e-10]\n"
     ]
    }
   ],
   "source": [
    "## predict for R = 0.3\n",
    "r5_data_predictions = loaded_model.predict(subdf_5.drop(\"crack_growth_rate\",axis = 1))\n",
    "indexes = np.sort(np.random.choice(14, size=9, replace=False))\n",
    "paris_y = (subdf_5.crack_growth_rate.values[indexes])* (10**(-5))\n",
    "\n",
    "paris_x = subdf_5.delta_K.values[indexes]\n",
    "  \n",
    "def test(paris_x, C, m): \n",
    "    return C * (paris_x ** (m)) \n",
    "  \n",
    "param, param_cov = curve_fit(test, paris_x, paris_y) \n",
    "  \n",
    "print(\" funcion coefficients:\") \n",
    "print(param) \n",
    "\n",
    "paris_x_test = subdf_5.delta_K.values\n",
    "paris_predictions5 = param[0] * ((paris_x_test)**(param[1]))\n",
    "paris_error = 0\n",
    "NN_error = 0\n",
    "experimental_dadN = subdf_5.crack_growth_rate.values\n",
    "for i in range(14):\n",
    "    paris_error += abs((experimental_dadN[i] * (10 **(-5)))**(2) - (paris_predictions5[i])**(2))\n",
    "    NN_error+=abs((experimental_dadN[i] * (10**(-5)))**(2) - (r5_data_predictions[i] * (10 ** (-5)))**(2))\n",
    "print(\"MSE of the Paris model is :\")\n",
    "print(paris_error/14)\n",
    "\n",
    "##as paris model's MSE is calculated completely on training_data itself it is likely to show better MSE than teh actual.\n",
    "## train on only 15 points and then test on all 21 points to achieve a clear comparison.\n",
    "print(\"MSW of the Neural Network model is :\")\n",
    "print(NN_error/14)"
   ]
  },
  {
   "cell_type": "code",
   "execution_count": null,
   "metadata": {},
   "outputs": [],
   "source": [
    "## fatigue life calculation(in cycles)\n",
    "# check the units and dimensions before calculating\n",
    "a = 0.5\n",
    "if(R==0):\n",
    "    delta_sigma = 80 #in MPa\n",
    "else if(R == 0.1):\n",
    "    delta_sigma = 77\n",
    "else if(R == 0.3):\n",
    "    delta_sigma = 53\n",
    "else if(R == 0.5 ):\n",
    "    delta_sigma = 46\n",
    "width = 7.2 #in mm\n",
    "number_of_cycles = 0\n",
    "while( a < 5 ):\n",
    "    temp_df = pd.DataFrame(data=None, columns=data.columns)\n",
    "    temp_df = temp_df.drop(\"crack_growth_rate\",axis = 1)\n",
    "    \n",
    "    # formula from TL_Anderson for mode-1 laoding\n",
    "    Y = (width/a) * (1 /(np.pi)) * (np.tan ( (np.pi)/(width/a)))#calculating geometric factor\n",
    "    \n",
    "    temp_delta_k = Y * delta_sigma * np.sqrt( np.pi * a) #calculating delta k for this cycle\n",
    "    \n",
    "    new_row = {'R':R, 'delta_K':temp_delta_k}\n",
    "    temp_df = temp_df.append(new_row, ignore_index=True)\n",
    "    da = loaded_model.predict(temp_df)\n",
    "    a += da\n",
    "    number_of_cycles+=1\n",
    "fatigue_life = number_of_cycles\n",
    "    \n",
    "    \n"
   ]
  }
 ],
 "metadata": {
  "kernelspec": {
   "display_name": "Python 3",
   "language": "python",
   "name": "python3"
  },
  "language_info": {
   "codemirror_mode": {
    "name": "ipython",
    "version": 3
   },
   "file_extension": ".py",
   "mimetype": "text/x-python",
   "name": "python",
   "nbconvert_exporter": "python",
   "pygments_lexer": "ipython3",
   "version": "3.6.8"
  }
 },
 "nbformat": 4,
 "nbformat_minor": 2
}
